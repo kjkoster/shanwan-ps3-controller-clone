{
 "cells": [
  {
   "cell_type": "markdown",
   "id": "modular-variable",
   "metadata": {},
   "source": [
    "# Remote Controlled Operation\n",
    "\n",
    "This notebook cuts the middle man from the teleoperation. Instead of using your workstation to relay controller input to the robot, plug the controller's dongle into a USB port on the the Jetbot itself.\n",
    "\n",
    "Since the controller will not be picked up by Linux, we will use [pyusb](https://github.com/pyusb/pyusb) to control the Jetbot. The code in this notebook is based on Kees Jan Koster's [Python code for ShanWan PS3-style Controller](https://github.com/kjkoster/shanwan-ps3-controller-clone).\n"
   ]
  },
  {
   "cell_type": "markdown",
   "id": "indian-integration",
   "metadata": {},
   "source": [
    "---\n",
    "## Install Libraries and do Imports\n",
    "Since the controller is not natively supported, we use direct USB commands to read the buttons on the controller. For that we need `pyusb`, which does not come preinstalled in Jetpack."
   ]
  },
  {
   "cell_type": "code",
   "execution_count": null,
   "id": "sized-desperate",
   "metadata": {},
   "outputs": [],
   "source": [
    "!pip3 install pyusb\n"
   ]
  },
  {
   "cell_type": "code",
   "execution_count": null,
   "id": "actual-immunology",
   "metadata": {},
   "outputs": [],
   "source": [
    "import usb.core\n",
    "import usb.util\n",
    "from time import sleep\n",
    "from jetbot import Robot\n"
   ]
  },
  {
   "cell_type": "markdown",
   "id": "unnecessary-hygiene",
   "metadata": {},
   "source": [
    "---\n",
    "## Define USB Device Connection\n",
    "The control loop needs a connection endpoint. Here we search the USB bus for the controller, reset it, detach any associated processes and then claim it for ourselves. We expect the controller to have vendor id `0x2563` and product id `0x0526`. You can verify that your controller has the same by running `lsusb` and reviewing the output.\n",
    "\n",
    "The gamepad buttons can then be polled on endpoint address `0x81`, which is equivalent to configuration 0, interface 0 and endpoint 0 on the device. We could take the short route and just query for that endpoint, but I chose to follow the official USB device descriptor structure. Most examples you see take shortcuts here."
   ]
  },
  {
   "cell_type": "code",
   "execution_count": null,
   "id": "proud-liverpool",
   "metadata": {},
   "outputs": [],
   "source": [
    "idVendor = 0x2563\n",
    "idProduct = 0x0526\n",
    "configuration_index = 0\n",
    "interface_index = 0\n",
    "endpoint_index = 0\n",
    "\n",
    "controller = usb.core.find(idVendor=idVendor, idProduct=idProduct)\n",
    "if controller is None:\n",
    "    print(\"no controller detected\")\n",
    "else:\n",
    "    if controller.is_kernel_driver_active(interface_index):\n",
    "        controller.detach_kernel_driver(interface_index)\n",
    "    usb.util.claim_interface(controller, interface_index)\n",
    "    interface = controller[configuration_index].interfaces()[interface_index]\n",
    "    endpoint = interface.endpoints()[endpoint_index]\n",
    "    print(f\"reading from endpoint 0x{endpoint.bEndpointAddress:02x} on {controller.manufacturer} {controller.product} at {idVendor:04x}:{idProduct:04x} on /dev/bus/usb/{controller.bus:03d}/{controller.address:03d}\")\n",
    "    "
   ]
  },
  {
   "cell_type": "markdown",
   "id": "worldwide-necklace",
   "metadata": {},
   "source": [
    "Next we define how to map the analog joystick values from the right analog joystick.\n",
    "\n",
    "The X-axis value from the joystick is simply scales from the `0..255` range of the analog joystick to the motor control range `-1.0..1.0`. This is fairly aggressive and you'll have to be a little light on the throttle to avoid your robot skidding.\n",
    "\n",
    "The Y-axis is scaled too, but into a rotation factor. For turning, we do not make use of the full motor speed range. Using the full range makes it really hard to elegantly turn the robot. Instead, we map to `-0.4..0.4` as the control range.\n"
   ]
  },
  {
   "cell_type": "code",
   "execution_count": null,
   "id": "billion-stevens",
   "metadata": {},
   "outputs": [],
   "source": [
    "def scale(val, src, dst):\n",
    "    return ((val - src[0]) / (src[1]-src[0])) * (dst[1]-dst[0]) + dst[0]\n",
    "    \n",
    "def map(joystick_x, joystick_y):\n",
    "    # first scale forward/backward motion based on the Y-axis value\n",
    "    y_speed = scale(joystick_y, (0, 255), (1.0, -1.0))\n",
    "    \n",
    "    # then add the left/right turning based on the X-axis value\n",
    "    left_rotation = scale(joystick_x, (0, 255), (-0.4, 0.4))\n",
    "    \n",
    "    # the actual motor value is the sum of the two\n",
    "    return left_rotation + y_speed, -left_rotation + y_speed\n",
    "    "
   ]
  },
  {
   "cell_type": "markdown",
   "id": "signal-payment",
   "metadata": {},
   "source": [
    "---\n",
    "# Robot Connection\n",
    "The robot connection is a lot simpler than the controller code. Just make the object and we're good to go."
   ]
  },
  {
   "cell_type": "code",
   "execution_count": null,
   "id": "convertible-taylor",
   "metadata": {},
   "outputs": [],
   "source": [
    "robot = Robot()\n"
   ]
  },
  {
   "cell_type": "markdown",
   "id": "surprised-consumption",
   "metadata": {},
   "source": [
    "---\n",
    "# Main Control Loop\n",
    "With everything detected, claimed and set up, it os now time to start the main control loop. This is not very fancy, we just poll the controller for button states and set the motor states accordingly.\n",
    "\n",
    "The analog values for the right joystick can be found in `packet[3]` for the X-axis and `packet[4]` for the Y-axis. If you prefer to use the left joystick, you can change these to `packet[1]` and `packet[2]` respectively.\n"
   ]
  },
  {
   "cell_type": "code",
   "execution_count": null,
   "id": "ancient-concord",
   "metadata": {},
   "outputs": [],
   "source": [
    "\n",
    "while True:\n",
    "    packet = endpoint.read(endpoint.wMaxPacketSize)\n",
    "    left, right = map(packet[3], packet[4])\n",
    "    robot.set_motors(left, right)\n"
   ]
  },
  {
   "cell_type": "markdown",
   "id": "manufactured-coral",
   "metadata": {},
   "source": [
    "Alternatively, you can use the D-pad for control. These can be found in `packet[5]`. Not sure what the history on those specific values is, but the D-pad does not use a bitmap.\n",
    "\n",
    "Here too, we don't use the full control range of the motors, as that is just too aggressive.\n"
   ]
  },
  {
   "cell_type": "code",
   "execution_count": null,
   "id": "received-mineral",
   "metadata": {},
   "outputs": [],
   "source": [
    "while True:\n",
    "    packet = endpoint.read(endpoint.wMaxPacketSize)\n",
    "    if   packet[5] == 0b0000:\n",
    "        robot.set_motors(0.5, 0.5)\n",
    "    elif packet[5] == 0b0110:\n",
    "        robot.set_motors(0.0, 0.5)\n",
    "    elif packet[5] == 0b0010:\n",
    "        robot.set_motors(0.5, 0.0)\n",
    "    elif packet[5] == 0b0100:\n",
    "        robot.set_motors(-0.5, -0.5)\n",
    "    else:\n",
    "        robot.set_motors(0.0, 0.0)\n"
   ]
  }
 ],
 "metadata": {
  "kernelspec": {
   "display_name": "Python 3",
   "language": "python",
   "name": "python3"
  },
  "language_info": {
   "codemirror_mode": {
    "name": "ipython",
    "version": 3
   },
   "file_extension": ".py",
   "mimetype": "text/x-python",
   "name": "python",
   "nbconvert_exporter": "python",
   "pygments_lexer": "ipython3",
   "version": "3.6.9"
  }
 },
 "nbformat": 4,
 "nbformat_minor": 5
}
